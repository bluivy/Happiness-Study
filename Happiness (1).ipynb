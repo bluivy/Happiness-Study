{
  "nbformat": 4,
  "nbformat_minor": 0,
  "metadata": {
    "colab": {
      "name": "Happiness",
      "provenance": [],
      "collapsed_sections": [],
      "toc_visible": true
    },
    "kernelspec": {
      "name": "python3",
      "display_name": "Python 3"
    }
  },
  "cells": [
    {
      "cell_type": "markdown",
      "metadata": {
        "id": "ikaVMv-ZYHGV",
        "colab_type": "text"
      },
      "source": [
        "# World Happiness Index\n",
        "\n",
        "The World Happiness Index is a survey of the global state of happiness. The first report was published in the year 2012 and subsequently till 2019. This survey ranks 155 out of 195 countries.\n",
        "\n",
        "Instead of the actual values, the data here indicates how much a feature contributes to the happiness score.\n",
        "\n",
        "The features that are used in the dataset are : \n",
        " 1.   Country                       \n",
        " 2.   Score                         \n",
        " 3.   GDP per capita                \n",
        " 4.   Social support                \n",
        " 5.   Healthy life expectancy       \n",
        " 6.   Freedom to make life choices  \n",
        " 7.   Generosity                    \n",
        " 8.   Perceptions of corruption\n",
        " 9.   Rank\n",
        "\n",
        "However the survey does not contain details about countries like North Korea and Turkmenistan. North Korea and Turkmenistan have strict dictatorship and censorship and have state sponsored propaganda. \n",
        "\n",
        "Getting data about countries like these might be an interesting one but on the other hand extremely difficult to collect it.\n",
        "\n",
        "The main aim of this dataset is to see whether a country's form of government have any effect on the country's happiness index.\n",
        "\n",
        "\n",
        "The dataset :\n",
        "\n",
        "https://www.kaggle.com/unsdsn/world-happiness\n",
        "\n",
        "https://www.cia.gov/library/publications/the-world-factbook/fields/299.html\n"
      ]
    },
    {
      "cell_type": "code",
      "metadata": {
        "id": "2mmRLRQxaDKh",
        "colab_type": "code",
        "colab": {
          "base_uri": "https://localhost:8080/",
          "height": 71
        },
        "outputId": "094a64c3-815b-4b16-f26a-02e2c8afa1f2"
      },
      "source": [
        "import numpy as np\n",
        "import pandas as pd\n",
        "import matplotlib.pyplot as plt\n",
        "import seaborn as sns\n",
        "sns.set_style('whitegrid')"
      ],
      "execution_count": null,
      "outputs": [
        {
          "output_type": "stream",
          "text": [
            "/usr/local/lib/python3.6/dist-packages/statsmodels/tools/_testing.py:19: FutureWarning: pandas.util.testing is deprecated. Use the functions in the public API at pandas.testing instead.\n",
            "  import pandas.util.testing as tm\n"
          ],
          "name": "stderr"
        }
      ]
    },
    {
      "cell_type": "code",
      "metadata": {
        "id": "83v5Vpko0xMJ",
        "colab_type": "code",
        "colab": {}
      },
      "source": [
        "df=pd.read_csv('/content/2019.csv')"
      ],
      "execution_count": null,
      "outputs": []
    },
    {
      "cell_type": "markdown",
      "metadata": {
        "id": "5i3iYboNesxn",
        "colab_type": "text"
      },
      "source": [
        "**Simple preprocessing and cleaning :**"
      ]
    },
    {
      "cell_type": "code",
      "metadata": {
        "id": "3uOfNZpg1e5J",
        "colab_type": "code",
        "colab": {
          "base_uri": "https://localhost:8080/",
          "height": 221
        },
        "outputId": "5f9b1aa6-197d-4589-961d-02411fccef29"
      },
      "source": [
        "df.head()\n"
      ],
      "execution_count": null,
      "outputs": [
        {
          "output_type": "execute_result",
          "data": {
            "text/html": [
              "<div>\n",
              "<style scoped>\n",
              "    .dataframe tbody tr th:only-of-type {\n",
              "        vertical-align: middle;\n",
              "    }\n",
              "\n",
              "    .dataframe tbody tr th {\n",
              "        vertical-align: top;\n",
              "    }\n",
              "\n",
              "    .dataframe thead th {\n",
              "        text-align: right;\n",
              "    }\n",
              "</style>\n",
              "<table border=\"1\" class=\"dataframe\">\n",
              "  <thead>\n",
              "    <tr style=\"text-align: right;\">\n",
              "      <th></th>\n",
              "      <th>rank</th>\n",
              "      <th>Country</th>\n",
              "      <th>Score</th>\n",
              "      <th>GDP per capita</th>\n",
              "      <th>Social support</th>\n",
              "      <th>Healthy life expectancy</th>\n",
              "      <th>Freedom to make life choices</th>\n",
              "      <th>Generosity</th>\n",
              "      <th>Perceptions of corruption</th>\n",
              "    </tr>\n",
              "  </thead>\n",
              "  <tbody>\n",
              "    <tr>\n",
              "      <th>0</th>\n",
              "      <td>1</td>\n",
              "      <td>Finland</td>\n",
              "      <td>7.769</td>\n",
              "      <td>1.340</td>\n",
              "      <td>1.587</td>\n",
              "      <td>0.986</td>\n",
              "      <td>0.596</td>\n",
              "      <td>0.153</td>\n",
              "      <td>0.393</td>\n",
              "    </tr>\n",
              "    <tr>\n",
              "      <th>1</th>\n",
              "      <td>2</td>\n",
              "      <td>Denmark</td>\n",
              "      <td>7.600</td>\n",
              "      <td>1.383</td>\n",
              "      <td>1.573</td>\n",
              "      <td>0.996</td>\n",
              "      <td>0.592</td>\n",
              "      <td>0.252</td>\n",
              "      <td>0.410</td>\n",
              "    </tr>\n",
              "    <tr>\n",
              "      <th>2</th>\n",
              "      <td>3</td>\n",
              "      <td>Norway</td>\n",
              "      <td>7.554</td>\n",
              "      <td>1.488</td>\n",
              "      <td>1.582</td>\n",
              "      <td>1.028</td>\n",
              "      <td>0.603</td>\n",
              "      <td>0.271</td>\n",
              "      <td>0.341</td>\n",
              "    </tr>\n",
              "    <tr>\n",
              "      <th>3</th>\n",
              "      <td>4</td>\n",
              "      <td>Iceland</td>\n",
              "      <td>7.494</td>\n",
              "      <td>1.380</td>\n",
              "      <td>1.624</td>\n",
              "      <td>1.026</td>\n",
              "      <td>0.591</td>\n",
              "      <td>0.354</td>\n",
              "      <td>0.118</td>\n",
              "    </tr>\n",
              "    <tr>\n",
              "      <th>4</th>\n",
              "      <td>5</td>\n",
              "      <td>Netherlands</td>\n",
              "      <td>7.488</td>\n",
              "      <td>1.396</td>\n",
              "      <td>1.522</td>\n",
              "      <td>0.999</td>\n",
              "      <td>0.557</td>\n",
              "      <td>0.322</td>\n",
              "      <td>0.298</td>\n",
              "    </tr>\n",
              "  </tbody>\n",
              "</table>\n",
              "</div>"
            ],
            "text/plain": [
              "   rank      Country  ...  Generosity  Perceptions of corruption\n",
              "0     1      Finland  ...       0.153                      0.393\n",
              "1     2      Denmark  ...       0.252                      0.410\n",
              "2     3       Norway  ...       0.271                      0.341\n",
              "3     4      Iceland  ...       0.354                      0.118\n",
              "4     5  Netherlands  ...       0.322                      0.298\n",
              "\n",
              "[5 rows x 9 columns]"
            ]
          },
          "metadata": {
            "tags": []
          },
          "execution_count": 3
        }
      ]
    },
    {
      "cell_type": "code",
      "metadata": {
        "id": "P11t-FH11hHl",
        "colab_type": "code",
        "colab": {
          "base_uri": "https://localhost:8080/",
          "height": 289
        },
        "outputId": "e341c3b1-481a-4a78-a6ca-ac86e687ea4d"
      },
      "source": [
        "df.info()"
      ],
      "execution_count": null,
      "outputs": [
        {
          "output_type": "stream",
          "text": [
            "<class 'pandas.core.frame.DataFrame'>\n",
            "RangeIndex: 156 entries, 0 to 155\n",
            "Data columns (total 9 columns):\n",
            " #   Column                        Non-Null Count  Dtype  \n",
            "---  ------                        --------------  -----  \n",
            " 0   rank                          156 non-null    int64  \n",
            " 1   Country                       156 non-null    object \n",
            " 2   Score                         156 non-null    float64\n",
            " 3   GDP per capita                156 non-null    float64\n",
            " 4   Social support                156 non-null    float64\n",
            " 5   Healthy life expectancy       156 non-null    float64\n",
            " 6   Freedom to make life choices  156 non-null    float64\n",
            " 7   Generosity                    156 non-null    float64\n",
            " 8   Perceptions of corruption     156 non-null    float64\n",
            "dtypes: float64(7), int64(1), object(1)\n",
            "memory usage: 11.1+ KB\n"
          ],
          "name": "stdout"
        }
      ]
    },
    {
      "cell_type": "code",
      "metadata": {
        "id": "1D7a2XHL1mp1",
        "colab_type": "code",
        "colab": {
          "base_uri": "https://localhost:8080/",
          "height": 314
        },
        "outputId": "be4a067e-628d-4152-d390-02dd39fa5611"
      },
      "source": [
        "df.describe()\n"
      ],
      "execution_count": null,
      "outputs": [
        {
          "output_type": "execute_result",
          "data": {
            "text/html": [
              "<div>\n",
              "<style scoped>\n",
              "    .dataframe tbody tr th:only-of-type {\n",
              "        vertical-align: middle;\n",
              "    }\n",
              "\n",
              "    .dataframe tbody tr th {\n",
              "        vertical-align: top;\n",
              "    }\n",
              "\n",
              "    .dataframe thead th {\n",
              "        text-align: right;\n",
              "    }\n",
              "</style>\n",
              "<table border=\"1\" class=\"dataframe\">\n",
              "  <thead>\n",
              "    <tr style=\"text-align: right;\">\n",
              "      <th></th>\n",
              "      <th>rank</th>\n",
              "      <th>Score</th>\n",
              "      <th>GDP per capita</th>\n",
              "      <th>Social support</th>\n",
              "      <th>Healthy life expectancy</th>\n",
              "      <th>Freedom to make life choices</th>\n",
              "      <th>Generosity</th>\n",
              "      <th>Perceptions of corruption</th>\n",
              "    </tr>\n",
              "  </thead>\n",
              "  <tbody>\n",
              "    <tr>\n",
              "      <th>count</th>\n",
              "      <td>156.000000</td>\n",
              "      <td>156.000000</td>\n",
              "      <td>156.000000</td>\n",
              "      <td>156.000000</td>\n",
              "      <td>156.000000</td>\n",
              "      <td>156.000000</td>\n",
              "      <td>156.000000</td>\n",
              "      <td>156.000000</td>\n",
              "    </tr>\n",
              "    <tr>\n",
              "      <th>mean</th>\n",
              "      <td>78.500000</td>\n",
              "      <td>5.407096</td>\n",
              "      <td>0.905147</td>\n",
              "      <td>1.208814</td>\n",
              "      <td>0.725244</td>\n",
              "      <td>0.392571</td>\n",
              "      <td>0.184846</td>\n",
              "      <td>0.110603</td>\n",
              "    </tr>\n",
              "    <tr>\n",
              "      <th>std</th>\n",
              "      <td>45.177428</td>\n",
              "      <td>1.113120</td>\n",
              "      <td>0.398389</td>\n",
              "      <td>0.299191</td>\n",
              "      <td>0.242124</td>\n",
              "      <td>0.143289</td>\n",
              "      <td>0.095254</td>\n",
              "      <td>0.094538</td>\n",
              "    </tr>\n",
              "    <tr>\n",
              "      <th>min</th>\n",
              "      <td>1.000000</td>\n",
              "      <td>2.853000</td>\n",
              "      <td>0.000000</td>\n",
              "      <td>0.000000</td>\n",
              "      <td>0.000000</td>\n",
              "      <td>0.000000</td>\n",
              "      <td>0.000000</td>\n",
              "      <td>0.000000</td>\n",
              "    </tr>\n",
              "    <tr>\n",
              "      <th>25%</th>\n",
              "      <td>39.750000</td>\n",
              "      <td>4.544500</td>\n",
              "      <td>0.602750</td>\n",
              "      <td>1.055750</td>\n",
              "      <td>0.547750</td>\n",
              "      <td>0.308000</td>\n",
              "      <td>0.108750</td>\n",
              "      <td>0.047000</td>\n",
              "    </tr>\n",
              "    <tr>\n",
              "      <th>50%</th>\n",
              "      <td>78.500000</td>\n",
              "      <td>5.379500</td>\n",
              "      <td>0.960000</td>\n",
              "      <td>1.271500</td>\n",
              "      <td>0.789000</td>\n",
              "      <td>0.417000</td>\n",
              "      <td>0.177500</td>\n",
              "      <td>0.085500</td>\n",
              "    </tr>\n",
              "    <tr>\n",
              "      <th>75%</th>\n",
              "      <td>117.250000</td>\n",
              "      <td>6.184500</td>\n",
              "      <td>1.232500</td>\n",
              "      <td>1.452500</td>\n",
              "      <td>0.881750</td>\n",
              "      <td>0.507250</td>\n",
              "      <td>0.248250</td>\n",
              "      <td>0.141250</td>\n",
              "    </tr>\n",
              "    <tr>\n",
              "      <th>max</th>\n",
              "      <td>156.000000</td>\n",
              "      <td>7.769000</td>\n",
              "      <td>1.684000</td>\n",
              "      <td>1.624000</td>\n",
              "      <td>1.141000</td>\n",
              "      <td>0.631000</td>\n",
              "      <td>0.566000</td>\n",
              "      <td>0.453000</td>\n",
              "    </tr>\n",
              "  </tbody>\n",
              "</table>\n",
              "</div>"
            ],
            "text/plain": [
              "             rank       Score  ...  Generosity  Perceptions of corruption\n",
              "count  156.000000  156.000000  ...  156.000000                 156.000000\n",
              "mean    78.500000    5.407096  ...    0.184846                   0.110603\n",
              "std     45.177428    1.113120  ...    0.095254                   0.094538\n",
              "min      1.000000    2.853000  ...    0.000000                   0.000000\n",
              "25%     39.750000    4.544500  ...    0.108750                   0.047000\n",
              "50%     78.500000    5.379500  ...    0.177500                   0.085500\n",
              "75%    117.250000    6.184500  ...    0.248250                   0.141250\n",
              "max    156.000000    7.769000  ...    0.566000                   0.453000\n",
              "\n",
              "[8 rows x 8 columns]"
            ]
          },
          "metadata": {
            "tags": []
          },
          "execution_count": 5
        }
      ]
    },
    {
      "cell_type": "code",
      "metadata": {
        "id": "Lkkqdhts114t",
        "colab_type": "code",
        "colab": {
          "base_uri": "https://localhost:8080/",
          "height": 170
        },
        "outputId": "e5f8af35-59df-4812-e6ab-37867c7e9669"
      },
      "source": [
        "for i in df.columns: \n",
        "    print(i) "
      ],
      "execution_count": null,
      "outputs": [
        {
          "output_type": "stream",
          "text": [
            "rank\n",
            "Country\n",
            "Score\n",
            "GDP per capita\n",
            "Social support\n",
            "Healthy life expectancy\n",
            "Freedom to make life choices\n",
            "Generosity\n",
            "Perceptions of corruption\n"
          ],
          "name": "stdout"
        }
      ]
    },
    {
      "cell_type": "code",
      "metadata": {
        "id": "94OL-acf2cm6",
        "colab_type": "code",
        "colab": {
          "base_uri": "https://localhost:8080/",
          "height": 351
        },
        "outputId": "dae82ad5-3c3a-4c02-92fd-a52af50c2d8d"
      },
      "source": [
        "# distribution of the GDP per capita across rank\n",
        "plt.figure(figsize=(12,5))\n",
        "sns.distplot(df['GDP per capita'])\n"
      ],
      "execution_count": null,
      "outputs": [
        {
          "output_type": "execute_result",
          "data": {
            "text/plain": [
              "<matplotlib.axes._subplots.AxesSubplot at 0x7f4a5c12c1d0>"
            ]
          },
          "metadata": {
            "tags": []
          },
          "execution_count": 7
        },
        {
          "output_type": "display_data",
          "data": {
            "image/png": "[encoded data removed]",
            "text/plain": [
              "<Figure size 864x360 with 1 Axes>"
            ]
          },
          "metadata": {
            "tags": [],
            "needs_background": "light"
          }
        }
      ]
    },
    {
      "cell_type": "markdown",
      "metadata": {
        "id": "tEzM2m0HghpB",
        "colab_type": "text"
      },
      "source": [
        "Exploring the distribution of the GDP per capita across the ranks, higher the GDP the more contribution it does to the Happiness rank. We can see it has an unimodel distribution"
      ]
    },
    {
      "cell_type": "code",
      "metadata": {
        "id": "hmrjSQ4I2zVE",
        "colab_type": "code",
        "colab": {
          "base_uri": "https://localhost:8080/",
          "height": 351
        },
        "outputId": "14e37a49-976d-43e3-85d7-e03d0cefb159"
      },
      "source": [
        "#exploring healthy life expectancy across different ranks\n",
        "plt.figure(figsize=(12,5))\n",
        "sns.distplot(df['Healthy life expectancy'])"
      ],
      "execution_count": null,
      "outputs": [
        {
          "output_type": "execute_result",
          "data": {
            "text/plain": [
              "<matplotlib.axes._subplots.AxesSubplot at 0x7f4a5c07e198>"
            ]
          },
          "metadata": {
            "tags": []
          },
          "execution_count": 8
        },
        {
          "output_type": "display_data",
          "data": {
            "image/png": "[encoded data removed]",
            "text/plain": [
              "<Figure size 864x360 with 1 Axes>"
            ]
          },
          "metadata": {
            "tags": [],
            "needs_background": "light"
          }
        }
      ]
    },
    {
      "cell_type": "markdown",
      "metadata": {
        "id": "SHYrppPuhfan",
        "colab_type": "text"
      },
      "source": [
        "We can also see that there is an unimodel distribution for healthy life expectancy across the ranks.\n",
        "\n",
        "It would be interesting to see if there is any relation among the distributions"
      ]
    },
    {
      "cell_type": "code",
      "metadata": {
        "id": "yjMgMKrk3kgJ",
        "colab_type": "code",
        "colab": {
          "base_uri": "https://localhost:8080/",
          "height": 337
        },
        "outputId": "4b59e610-c1c6-4633-8234-23764c876c67"
      },
      "source": [
        "#overlaying gdp and happiness\n",
        "\n",
        "\n",
        "#lower gdp indiacates that the countries's gdp has lower contribution\n",
        "# healthy life score contributes more to the happiness \n",
        "plt.figure(figsize=(12,5))\n",
        "plt.hist(df['GDP per capita'],bins=50,alpha=0.5,label='GDP')\n",
        "plt.hist(df['Healthy life expectancy'],bins=50,alpha=0.5,label='Healthy Life')\n",
        "plt.legend(loc='best')\n",
        "plt.show()\n",
        "\n",
        "'''healthy life score contributes more to a country to a happiness whereas this is not the case for gdp score of a country.'''"
      ],
      "execution_count": null,
      "outputs": [
        {
          "output_type": "display_data",
          "data": {
            "image/png": "[encoded data removed]",
            "text/plain": [
              "<Figure size 864x360 with 1 Axes>"
            ]
          },
          "metadata": {
            "tags": [],
            "needs_background": "light"
          }
        },
        {
          "output_type": "execute_result",
          "data": {
            "text/plain": [
              "'healthy life score contributes more to a country to a happiness whereas this is not the case for gdp score of a country.'"
            ]
          },
          "metadata": {
            "tags": []
          },
          "execution_count": 9
        }
      ]
    },
    {
      "cell_type": "markdown",
      "metadata": {
        "id": "uXPckZEajRmk",
        "colab_type": "text"
      },
      "source": [
        "We can see there isn't any strong relation in the GDP of a country and its healthy life\n",
        "\n",
        "The countries with high GDP score have lower healthy life score. However this observation doesn't hold true in all the case and there are many outliners"
      ]
    },
    {
      "cell_type": "markdown",
      "metadata": {
        "id": "jVA_lQX0kmDk",
        "colab_type": "text"
      },
      "source": [
        "I wanted to explore the countries with higher generosity index and their ranks"
      ]
    },
    {
      "cell_type": "code",
      "metadata": {
        "id": "wLsKI0QF4vyB",
        "colab_type": "code",
        "colab": {
          "base_uri": "https://localhost:8080/",
          "height": 221
        },
        "outputId": "bc7f5852-c74c-4273-8bab-8b2de53e24c4"
      },
      "source": [
        "df.nlargest(5, ['Generosity']) \n",
        "# Countries with lower ranks have higher ranks"
      ],
      "execution_count": null,
      "outputs": [
        {
          "output_type": "execute_result",
          "data": {
            "text/html": [
              "<div>\n",
              "<style scoped>\n",
              "    .dataframe tbody tr th:only-of-type {\n",
              "        vertical-align: middle;\n",
              "    }\n",
              "\n",
              "    .dataframe tbody tr th {\n",
              "        vertical-align: top;\n",
              "    }\n",
              "\n",
              "    .dataframe thead th {\n",
              "        text-align: right;\n",
              "    }\n",
              "</style>\n",
              "<table border=\"1\" class=\"dataframe\">\n",
              "  <thead>\n",
              "    <tr style=\"text-align: right;\">\n",
              "      <th></th>\n",
              "      <th>rank</th>\n",
              "      <th>Country</th>\n",
              "      <th>Score</th>\n",
              "      <th>GDP per capita</th>\n",
              "      <th>Social support</th>\n",
              "      <th>Healthy life expectancy</th>\n",
              "      <th>Freedom to make life choices</th>\n",
              "      <th>Generosity</th>\n",
              "      <th>Perceptions of corruption</th>\n",
              "    </tr>\n",
              "  </thead>\n",
              "  <tbody>\n",
              "    <tr>\n",
              "      <th>130</th>\n",
              "      <td>131</td>\n",
              "      <td>Myanmar</td>\n",
              "      <td>4.360</td>\n",
              "      <td>0.710</td>\n",
              "      <td>1.181</td>\n",
              "      <td>0.555</td>\n",
              "      <td>0.525</td>\n",
              "      <td>0.566</td>\n",
              "      <td>0.172</td>\n",
              "    </tr>\n",
              "    <tr>\n",
              "      <th>91</th>\n",
              "      <td>92</td>\n",
              "      <td>Indonesia</td>\n",
              "      <td>5.192</td>\n",
              "      <td>0.931</td>\n",
              "      <td>1.203</td>\n",
              "      <td>0.660</td>\n",
              "      <td>0.491</td>\n",
              "      <td>0.498</td>\n",
              "      <td>0.028</td>\n",
              "    </tr>\n",
              "    <tr>\n",
              "      <th>146</th>\n",
              "      <td>147</td>\n",
              "      <td>Haiti</td>\n",
              "      <td>3.597</td>\n",
              "      <td>0.323</td>\n",
              "      <td>0.688</td>\n",
              "      <td>0.449</td>\n",
              "      <td>0.026</td>\n",
              "      <td>0.419</td>\n",
              "      <td>0.110</td>\n",
              "    </tr>\n",
              "    <tr>\n",
              "      <th>21</th>\n",
              "      <td>22</td>\n",
              "      <td>Malta</td>\n",
              "      <td>6.726</td>\n",
              "      <td>1.300</td>\n",
              "      <td>1.520</td>\n",
              "      <td>0.999</td>\n",
              "      <td>0.564</td>\n",
              "      <td>0.375</td>\n",
              "      <td>0.151</td>\n",
              "    </tr>\n",
              "    <tr>\n",
              "      <th>120</th>\n",
              "      <td>121</td>\n",
              "      <td>Kenya</td>\n",
              "      <td>4.509</td>\n",
              "      <td>0.512</td>\n",
              "      <td>0.983</td>\n",
              "      <td>0.581</td>\n",
              "      <td>0.431</td>\n",
              "      <td>0.372</td>\n",
              "      <td>0.053</td>\n",
              "    </tr>\n",
              "  </tbody>\n",
              "</table>\n",
              "</div>"
            ],
            "text/plain": [
              "     rank    Country  ...  Generosity  Perceptions of corruption\n",
              "130   131    Myanmar  ...       0.566                      0.172\n",
              "91     92  Indonesia  ...       0.498                      0.028\n",
              "146   147      Haiti  ...       0.419                      0.110\n",
              "21     22      Malta  ...       0.375                      0.151\n",
              "120   121      Kenya  ...       0.372                      0.053\n",
              "\n",
              "[5 rows x 9 columns]"
            ]
          },
          "metadata": {
            "tags": []
          },
          "execution_count": 10
        }
      ]
    },
    {
      "cell_type": "markdown",
      "metadata": {
        "id": "Mt2t1Fe3kcX5",
        "colab_type": "text"
      },
      "source": [
        "From the table above, the countries having higher generosity have lower ranks but we cannot firmly conclude that generosity have any negative relation to the happiness score."
      ]
    },
    {
      "cell_type": "code",
      "metadata": {
        "id": "BUqask3y8mBx",
        "colab_type": "code",
        "colab": {}
      },
      "source": [
        "# adding the form of government to the countries using left- inner join of the dataset \n"
      ],
      "execution_count": null,
      "outputs": []
    },
    {
      "cell_type": "markdown",
      "metadata": {
        "id": "n5Hp98tplnuS",
        "colab_type": "text"
      },
      "source": [
        "Now let us explore the happiness score among the different forms of government and if there is any relation among them."
      ]
    },
    {
      "cell_type": "code",
      "metadata": {
        "id": "YKarkj6p9R6A",
        "colab_type": "code",
        "colab": {}
      },
      "source": [
        "df1=pd.read_csv('/content/2019.csv')\n",
        "df2=pd.read_csv('/content/government.csv')"
      ],
      "execution_count": null,
      "outputs": []
    },
    {
      "cell_type": "code",
      "metadata": {
        "id": "l9ALJ-WE-rfb",
        "colab_type": "code",
        "colab": {}
      },
      "source": [
        "data=pd.merge(df1,df2,how='inner',on='Country')"
      ],
      "execution_count": null,
      "outputs": []
    },
    {
      "cell_type": "code",
      "metadata": {
        "id": "YTdg177POtU2",
        "colab_type": "code",
        "colab": {
          "base_uri": "https://localhost:8080/",
          "height": 357
        },
        "outputId": "c1a713d6-63a7-4e20-8959-bf854bfe9aec"
      },
      "source": [
        "data.head()"
      ],
      "execution_count": null,
      "outputs": [
        {
          "output_type": "execute_result",
          "data": {
            "text/html": [
              "<div>\n",
              "<style scoped>\n",
              "    .dataframe tbody tr th:only-of-type {\n",
              "        vertical-align: middle;\n",
              "    }\n",
              "\n",
              "    .dataframe tbody tr th {\n",
              "        vertical-align: top;\n",
              "    }\n",
              "\n",
              "    .dataframe thead th {\n",
              "        text-align: right;\n",
              "    }\n",
              "</style>\n",
              "<table border=\"1\" class=\"dataframe\">\n",
              "  <thead>\n",
              "    <tr style=\"text-align: right;\">\n",
              "      <th></th>\n",
              "      <th>rank</th>\n",
              "      <th>Country</th>\n",
              "      <th>Score</th>\n",
              "      <th>GDP per capita</th>\n",
              "      <th>Social support</th>\n",
              "      <th>Healthy life expectancy</th>\n",
              "      <th>Freedom to make life choices</th>\n",
              "      <th>Generosity</th>\n",
              "      <th>Perceptions of corruption</th>\n",
              "      <th>Government_type</th>\n",
              "    </tr>\n",
              "  </thead>\n",
              "  <tbody>\n",
              "    <tr>\n",
              "      <th>0</th>\n",
              "      <td>1</td>\n",
              "      <td>Finland</td>\n",
              "      <td>7.769</td>\n",
              "      <td>1.340</td>\n",
              "      <td>1.587</td>\n",
              "      <td>0.986</td>\n",
              "      <td>0.596</td>\n",
              "      <td>0.153</td>\n",
              "      <td>0.393</td>\n",
              "      <td>parliamentary republic</td>\n",
              "    </tr>\n",
              "    <tr>\n",
              "      <th>1</th>\n",
              "      <td>2</td>\n",
              "      <td>Denmark</td>\n",
              "      <td>7.600</td>\n",
              "      <td>1.383</td>\n",
              "      <td>1.573</td>\n",
              "      <td>0.996</td>\n",
              "      <td>0.592</td>\n",
              "      <td>0.252</td>\n",
              "      <td>0.410</td>\n",
              "      <td>parliamentary constitutional monarchy</td>\n",
              "    </tr>\n",
              "    <tr>\n",
              "      <th>2</th>\n",
              "      <td>3</td>\n",
              "      <td>Norway</td>\n",
              "      <td>7.554</td>\n",
              "      <td>1.488</td>\n",
              "      <td>1.582</td>\n",
              "      <td>1.028</td>\n",
              "      <td>0.603</td>\n",
              "      <td>0.271</td>\n",
              "      <td>0.341</td>\n",
              "      <td>parliamentary constitutional monarchy</td>\n",
              "    </tr>\n",
              "    <tr>\n",
              "      <th>3</th>\n",
              "      <td>4</td>\n",
              "      <td>Iceland</td>\n",
              "      <td>7.494</td>\n",
              "      <td>1.380</td>\n",
              "      <td>1.624</td>\n",
              "      <td>1.026</td>\n",
              "      <td>0.591</td>\n",
              "      <td>0.354</td>\n",
              "      <td>0.118</td>\n",
              "      <td>unitary parliamentary republic</td>\n",
              "    </tr>\n",
              "    <tr>\n",
              "      <th>4</th>\n",
              "      <td>5</td>\n",
              "      <td>Netherlands</td>\n",
              "      <td>7.488</td>\n",
              "      <td>1.396</td>\n",
              "      <td>1.522</td>\n",
              "      <td>0.999</td>\n",
              "      <td>0.557</td>\n",
              "      <td>0.322</td>\n",
              "      <td>0.298</td>\n",
              "      <td>parliamentary constitutional monarchy; part of...</td>\n",
              "    </tr>\n",
              "  </tbody>\n",
              "</table>\n",
              "</div>"
            ],
            "text/plain": [
              "   rank  ...                                    Government_type\n",
              "0     1  ...                             parliamentary republic\n",
              "1     2  ...              parliamentary constitutional monarchy\n",
              "2     3  ...              parliamentary constitutional monarchy\n",
              "3     4  ...                     unitary parliamentary republic\n",
              "4     5  ...  parliamentary constitutional monarchy; part of...\n",
              "\n",
              "[5 rows x 10 columns]"
            ]
          },
          "metadata": {
            "tags": []
          },
          "execution_count": 13
        }
      ]
    },
    {
      "cell_type": "code",
      "metadata": {
        "id": "cKzdbYQ7nZd1",
        "colab_type": "code",
        "colab": {
          "base_uri": "https://localhost:8080/",
          "height": 204
        },
        "outputId": "a08026bf-509a-42ab-b6f6-381240375b24"
      },
      "source": [
        "data.isnull().sum()"
      ],
      "execution_count": null,
      "outputs": [
        {
          "output_type": "execute_result",
          "data": {
            "text/plain": [
              "rank                            0\n",
              "Country                         0\n",
              "Score                           0\n",
              "GDP per capita                  0\n",
              "Social support                  0\n",
              "Healthy life expectancy         0\n",
              "Freedom to make life choices    0\n",
              "Generosity                      0\n",
              "Perceptions of corruption       0\n",
              "Government_type                 0\n",
              "dtype: int64"
            ]
          },
          "metadata": {
            "tags": []
          },
          "execution_count": 14
        }
      ]
    },
    {
      "cell_type": "code",
      "metadata": {
        "id": "UN1e3FNKpDDt",
        "colab_type": "code",
        "colab": {
          "base_uri": "https://localhost:8080/",
          "height": 51
        },
        "outputId": "cfaf3b79-3482-48e7-b41a-c6ffe0cf716e"
      },
      "source": [
        "print(df.shape)\n",
        "print(data.shape)"
      ],
      "execution_count": null,
      "outputs": [
        {
          "output_type": "stream",
          "text": [
            "(156, 9)\n",
            "(144, 10)\n"
          ],
          "name": "stdout"
        }
      ]
    },
    {
      "cell_type": "code",
      "metadata": {
        "id": "_lR744rfqOeZ",
        "colab_type": "code",
        "colab": {
          "base_uri": "https://localhost:8080/",
          "height": 1000
        },
        "outputId": "69e9b915-687e-4c32-ad20-ea517a51f07f"
      },
      "source": [
        "data.groupby('Government_type').sum()"
      ],
      "execution_count": null,
      "outputs": [
        {
          "output_type": "execute_result",
          "data": {
            "text/html": [
              "<div>\n",
              "<style scoped>\n",
              "    .dataframe tbody tr th:only-of-type {\n",
              "        vertical-align: middle;\n",
              "    }\n",
              "\n",
              "    .dataframe tbody tr th {\n",
              "        vertical-align: top;\n",
              "    }\n",
              "\n",
              "    .dataframe thead th {\n",
              "        text-align: right;\n",
              "    }\n",
              "</style>\n",
              "<table border=\"1\" class=\"dataframe\">\n",
              "  <thead>\n",
              "    <tr style=\"text-align: right;\">\n",
              "      <th></th>\n",
              "      <th>rank</th>\n",
              "      <th>Score</th>\n",
              "      <th>GDP per capita</th>\n",
              "      <th>Social support</th>\n",
              "      <th>Healthy life expectancy</th>\n",
              "      <th>Freedom to make life choices</th>\n",
              "      <th>Generosity</th>\n",
              "      <th>Perceptions of corruption</th>\n",
              "    </tr>\n",
              "    <tr>\n",
              "      <th>Government_type</th>\n",
              "      <th></th>\n",
              "      <th></th>\n",
              "      <th></th>\n",
              "      <th></th>\n",
              "      <th></th>\n",
              "      <th></th>\n",
              "      <th></th>\n",
              "      <th></th>\n",
              "    </tr>\n",
              "  </thead>\n",
              "  <tbody>\n",
              "    <tr>\n",
              "      <th>Republic of Cyprus - presidential republic; \"Turkish Republic of Northern Cyprus\" (self-declared) - parliamentary republic with enhanced presidency</th>\n",
              "      <td>49</td>\n",
              "      <td>6.046</td>\n",
              "      <td>1.263</td>\n",
              "      <td>1.223</td>\n",
              "      <td>1.042</td>\n",
              "      <td>0.406</td>\n",
              "      <td>0.190</td>\n",
              "      <td>0.041</td>\n",
              "    </tr>\n",
              "    <tr>\n",
              "      <th>absolute monarchy</th>\n",
              "      <td>57</td>\n",
              "      <td>12.749</td>\n",
              "      <td>3.087</td>\n",
              "      <td>2.670</td>\n",
              "      <td>1.666</td>\n",
              "      <td>0.994</td>\n",
              "      <td>0.300</td>\n",
              "      <td>0.299</td>\n",
              "    </tr>\n",
              "    <tr>\n",
              "      <th>communist party-led state</th>\n",
              "      <td>93</td>\n",
              "      <td>5.191</td>\n",
              "      <td>1.029</td>\n",
              "      <td>1.125</td>\n",
              "      <td>0.893</td>\n",
              "      <td>0.521</td>\n",
              "      <td>0.058</td>\n",
              "      <td>0.100</td>\n",
              "    </tr>\n",
              "    <tr>\n",
              "      <th>communist state</th>\n",
              "      <td>199</td>\n",
              "      <td>9.971</td>\n",
              "      <td>1.505</td>\n",
              "      <td>2.376</td>\n",
              "      <td>1.402</td>\n",
              "      <td>1.090</td>\n",
              "      <td>0.413</td>\n",
              "      <td>0.237</td>\n",
              "    </tr>\n",
              "    <tr>\n",
              "      <th>constitutional federal republic</th>\n",
              "      <td>19</td>\n",
              "      <td>6.892</td>\n",
              "      <td>1.433</td>\n",
              "      <td>1.457</td>\n",
              "      <td>0.874</td>\n",
              "      <td>0.454</td>\n",
              "      <td>0.280</td>\n",
              "      <td>0.128</td>\n",
              "    </tr>\n",
              "    <tr>\n",
              "      <th>constitutional monarchy</th>\n",
              "      <td>198</td>\n",
              "      <td>24.379</td>\n",
              "      <td>4.834</td>\n",
              "      <td>5.577</td>\n",
              "      <td>3.315</td>\n",
              "      <td>2.076</td>\n",
              "      <td>1.178</td>\n",
              "      <td>0.621</td>\n",
              "    </tr>\n",
              "    <tr>\n",
              "      <th>constitutional monarchy (emirate)</th>\n",
              "      <td>51</td>\n",
              "      <td>6.021</td>\n",
              "      <td>1.500</td>\n",
              "      <td>1.319</td>\n",
              "      <td>0.808</td>\n",
              "      <td>0.493</td>\n",
              "      <td>0.142</td>\n",
              "      <td>0.097</td>\n",
              "    </tr>\n",
              "    <tr>\n",
              "      <th>federal parliamentary constitutional monarchy</th>\n",
              "      <td>80</td>\n",
              "      <td>5.339</td>\n",
              "      <td>1.221</td>\n",
              "      <td>1.171</td>\n",
              "      <td>0.828</td>\n",
              "      <td>0.508</td>\n",
              "      <td>0.260</td>\n",
              "      <td>0.024</td>\n",
              "    </tr>\n",
              "    <tr>\n",
              "      <th>federal parliamentary democracy (Parliament of Canada) under a constitutional monarchy; a Commonwealth realm; federal and state authorities and responsibilities regulated in constitution</th>\n",
              "      <td>9</td>\n",
              "      <td>7.278</td>\n",
              "      <td>1.365</td>\n",
              "      <td>1.505</td>\n",
              "      <td>1.039</td>\n",
              "      <td>0.584</td>\n",
              "      <td>0.285</td>\n",
              "      <td>0.308</td>\n",
              "    </tr>\n",
              "    <tr>\n",
              "      <th>federal parliamentary democracy under a constitutional monarchy</th>\n",
              "      <td>18</td>\n",
              "      <td>6.923</td>\n",
              "      <td>1.356</td>\n",
              "      <td>1.504</td>\n",
              "      <td>0.986</td>\n",
              "      <td>0.473</td>\n",
              "      <td>0.160</td>\n",
              "      <td>0.210</td>\n",
              "    </tr>\n",
              "    <tr>\n",
              "      <th>federal parliamentary democracy under a constitutional monarchy; a Commonwealth realm</th>\n",
              "      <td>11</td>\n",
              "      <td>7.228</td>\n",
              "      <td>1.372</td>\n",
              "      <td>1.548</td>\n",
              "      <td>1.036</td>\n",
              "      <td>0.557</td>\n",
              "      <td>0.332</td>\n",
              "      <td>0.290</td>\n",
              "    </tr>\n",
              "    <tr>\n",
              "      <th>federal parliamentary republic</th>\n",
              "      <td>706</td>\n",
              "      <td>42.203</td>\n",
              "      <td>6.006</td>\n",
              "      <td>8.517</td>\n",
              "      <td>5.177</td>\n",
              "      <td>3.421</td>\n",
              "      <td>1.810</td>\n",
              "      <td>1.222</td>\n",
              "    </tr>\n",
              "    <tr>\n",
              "      <th>federal presidential republic</th>\n",
              "      <td>390</td>\n",
              "      <td>26.840</td>\n",
              "      <td>4.004</td>\n",
              "      <td>6.057</td>\n",
              "      <td>3.218</td>\n",
              "      <td>1.545</td>\n",
              "      <td>0.727</td>\n",
              "      <td>0.325</td>\n",
              "    </tr>\n",
              "    <tr>\n",
              "      <th>federal republic (formally a confederation)</th>\n",
              "      <td>6</td>\n",
              "      <td>7.480</td>\n",
              "      <td>1.452</td>\n",
              "      <td>1.526</td>\n",
              "      <td>1.052</td>\n",
              "      <td>0.572</td>\n",
              "      <td>0.263</td>\n",
              "      <td>0.343</td>\n",
              "    </tr>\n",
              "    <tr>\n",
              "      <th>federation of monarchies</th>\n",
              "      <td>21</td>\n",
              "      <td>6.825</td>\n",
              "      <td>1.503</td>\n",
              "      <td>1.310</td>\n",
              "      <td>0.825</td>\n",
              "      <td>0.598</td>\n",
              "      <td>0.262</td>\n",
              "      <td>0.182</td>\n",
              "    </tr>\n",
              "    <tr>\n",
              "      <th>in transition</th>\n",
              "      <td>223</td>\n",
              "      <td>8.905</td>\n",
              "      <td>1.331</td>\n",
              "      <td>2.466</td>\n",
              "      <td>1.136</td>\n",
              "      <td>0.559</td>\n",
              "      <td>0.241</td>\n",
              "      <td>0.229</td>\n",
              "    </tr>\n",
              "    <tr>\n",
              "      <th>parliamentary constitutional monarchy</th>\n",
              "      <td>543</td>\n",
              "      <td>53.353</td>\n",
              "      <td>9.572</td>\n",
              "      <td>11.843</td>\n",
              "      <td>7.585</td>\n",
              "      <td>4.345</td>\n",
              "      <td>1.497</td>\n",
              "      <td>1.704</td>\n",
              "    </tr>\n",
              "    <tr>\n",
              "      <th>parliamentary constitutional monarchy; a Commonwealth realm</th>\n",
              "      <td>15</td>\n",
              "      <td>7.054</td>\n",
              "      <td>1.333</td>\n",
              "      <td>1.538</td>\n",
              "      <td>0.996</td>\n",
              "      <td>0.450</td>\n",
              "      <td>0.348</td>\n",
              "      <td>0.278</td>\n",
              "    </tr>\n",
              "    <tr>\n",
              "      <th>parliamentary constitutional monarchy; part of the Kingdom of the Netherlands</th>\n",
              "      <td>5</td>\n",
              "      <td>7.488</td>\n",
              "      <td>1.396</td>\n",
              "      <td>1.522</td>\n",
              "      <td>0.999</td>\n",
              "      <td>0.557</td>\n",
              "      <td>0.322</td>\n",
              "      <td>0.298</td>\n",
              "    </tr>\n",
              "    <tr>\n",
              "      <th>parliamentary democracy</th>\n",
              "      <td>13</td>\n",
              "      <td>7.139</td>\n",
              "      <td>1.276</td>\n",
              "      <td>1.455</td>\n",
              "      <td>1.029</td>\n",
              "      <td>0.371</td>\n",
              "      <td>0.261</td>\n",
              "      <td>0.082</td>\n",
              "    </tr>\n",
              "    <tr>\n",
              "      <th>parliamentary democracy (Parliament) under a constitutional monarchy; a Commonwealth realm</th>\n",
              "      <td>56</td>\n",
              "      <td>5.890</td>\n",
              "      <td>0.831</td>\n",
              "      <td>1.478</td>\n",
              "      <td>0.831</td>\n",
              "      <td>0.490</td>\n",
              "      <td>0.107</td>\n",
              "      <td>0.028</td>\n",
              "    </tr>\n",
              "    <tr>\n",
              "      <th>parliamentary democracy; note - constitutional changes adopted in December 2015 transformed the government to a parliamentary system</th>\n",
              "      <td>116</td>\n",
              "      <td>4.559</td>\n",
              "      <td>0.850</td>\n",
              "      <td>1.055</td>\n",
              "      <td>0.815</td>\n",
              "      <td>0.283</td>\n",
              "      <td>0.095</td>\n",
              "      <td>0.064</td>\n",
              "    </tr>\n",
              "    <tr>\n",
              "      <th>parliamentary democracy under a constitutional monarchy; a Commonwealth realm</th>\n",
              "      <td>8</td>\n",
              "      <td>7.307</td>\n",
              "      <td>1.303</td>\n",
              "      <td>1.557</td>\n",
              "      <td>1.026</td>\n",
              "      <td>0.585</td>\n",
              "      <td>0.330</td>\n",
              "      <td>0.380</td>\n",
              "    </tr>\n",
              "    <tr>\n",
              "      <th>parliamentary republic</th>\n",
              "      <td>1921</td>\n",
              "      <td>157.427</td>\n",
              "      <td>30.407</td>\n",
              "      <td>37.560</td>\n",
              "      <td>23.784</td>\n",
              "      <td>10.389</td>\n",
              "      <td>4.505</td>\n",
              "      <td>2.418</td>\n",
              "    </tr>\n",
              "    <tr>\n",
              "      <th>presidential Islamic republic</th>\n",
              "      <td>154</td>\n",
              "      <td>3.203</td>\n",
              "      <td>0.350</td>\n",
              "      <td>0.517</td>\n",
              "      <td>0.361</td>\n",
              "      <td>0.000</td>\n",
              "      <td>0.158</td>\n",
              "      <td>0.025</td>\n",
              "    </tr>\n",
              "    <tr>\n",
              "      <th>presidential limited democracy; a special administrative region of the People's Republic of China</th>\n",
              "      <td>76</td>\n",
              "      <td>5.430</td>\n",
              "      <td>1.438</td>\n",
              "      <td>1.277</td>\n",
              "      <td>1.122</td>\n",
              "      <td>0.440</td>\n",
              "      <td>0.258</td>\n",
              "      <td>0.287</td>\n",
              "    </tr>\n",
              "    <tr>\n",
              "      <th>presidential republic</th>\n",
              "      <td>4588</td>\n",
              "      <td>238.242</td>\n",
              "      <td>32.067</td>\n",
              "      <td>51.761</td>\n",
              "      <td>29.214</td>\n",
              "      <td>18.309</td>\n",
              "      <td>8.357</td>\n",
              "      <td>4.294</td>\n",
              "    </tr>\n",
              "    <tr>\n",
              "      <th>presidential republic in name, although in fact a dictatorship</th>\n",
              "      <td>81</td>\n",
              "      <td>5.323</td>\n",
              "      <td>1.067</td>\n",
              "      <td>1.465</td>\n",
              "      <td>0.789</td>\n",
              "      <td>0.235</td>\n",
              "      <td>0.094</td>\n",
              "      <td>0.142</td>\n",
              "    </tr>\n",
              "    <tr>\n",
              "      <th>presidential republic; authoritarian</th>\n",
              "      <td>87</td>\n",
              "      <td>5.247</td>\n",
              "      <td>1.052</td>\n",
              "      <td>1.538</td>\n",
              "      <td>0.657</td>\n",
              "      <td>0.394</td>\n",
              "      <td>0.244</td>\n",
              "      <td>0.028</td>\n",
              "    </tr>\n",
              "    <tr>\n",
              "      <th>presidential republic; highly authoritarian</th>\n",
              "      <td>41</td>\n",
              "      <td>6.174</td>\n",
              "      <td>0.745</td>\n",
              "      <td>1.529</td>\n",
              "      <td>0.756</td>\n",
              "      <td>0.631</td>\n",
              "      <td>0.322</td>\n",
              "      <td>0.240</td>\n",
              "    </tr>\n",
              "    <tr>\n",
              "      <th>presidential republic; highly authoritarian regime</th>\n",
              "      <td>149</td>\n",
              "      <td>3.462</td>\n",
              "      <td>0.619</td>\n",
              "      <td>0.378</td>\n",
              "      <td>0.440</td>\n",
              "      <td>0.013</td>\n",
              "      <td>0.331</td>\n",
              "      <td>0.141</td>\n",
              "    </tr>\n",
              "    <tr>\n",
              "      <th>semi-presidential federation</th>\n",
              "      <td>68</td>\n",
              "      <td>5.648</td>\n",
              "      <td>1.183</td>\n",
              "      <td>1.452</td>\n",
              "      <td>0.726</td>\n",
              "      <td>0.334</td>\n",
              "      <td>0.082</td>\n",
              "      <td>0.031</td>\n",
              "    </tr>\n",
              "    <tr>\n",
              "      <th>semi-presidential republic</th>\n",
              "      <td>944</td>\n",
              "      <td>57.244</td>\n",
              "      <td>9.702</td>\n",
              "      <td>13.045</td>\n",
              "      <td>8.129</td>\n",
              "      <td>3.381</td>\n",
              "      <td>1.767</td>\n",
              "      <td>0.817</td>\n",
              "    </tr>\n",
              "    <tr>\n",
              "      <th>theocratic republic</th>\n",
              "      <td>117</td>\n",
              "      <td>4.548</td>\n",
              "      <td>1.100</td>\n",
              "      <td>0.842</td>\n",
              "      <td>0.785</td>\n",
              "      <td>0.305</td>\n",
              "      <td>0.270</td>\n",
              "      <td>0.125</td>\n",
              "    </tr>\n",
              "    <tr>\n",
              "      <th>unitary parliamentary republic</th>\n",
              "      <td>4</td>\n",
              "      <td>7.494</td>\n",
              "      <td>1.380</td>\n",
              "      <td>1.624</td>\n",
              "      <td>1.026</td>\n",
              "      <td>0.591</td>\n",
              "      <td>0.354</td>\n",
              "      <td>0.118</td>\n",
              "    </tr>\n",
              "  </tbody>\n",
              "</table>\n",
              "</div>"
            ],
            "text/plain": [
              "                                                    rank  ...  Perceptions of corruption\n",
              "Government_type                                           ...                           \n",
              "Republic of Cyprus - presidential republic; \"Tu...    49  ...                      0.041\n",
              "absolute monarchy                                     57  ...                      0.299\n",
              "communist party-led state                             93  ...                      0.100\n",
              "communist state                                      199  ...                      0.237\n",
              "constitutional federal republic                       19  ...                      0.128\n",
              "constitutional monarchy                              198  ...                      0.621\n",
              "constitutional monarchy (emirate)                     51  ...                      0.097\n",
              "federal parliamentary constitutional monarchy         80  ...                      0.024\n",
              "federal parliamentary democracy (Parliament of ...     9  ...                      0.308\n",
              "federal parliamentary democracy under a constit...    18  ...                      0.210\n",
              "federal parliamentary democracy under a constit...    11  ...                      0.290\n",
              "federal parliamentary republic                       706  ...                      1.222\n",
              "federal presidential republic                        390  ...                      0.325\n",
              "federal republic (formally a confederation)            6  ...                      0.343\n",
              "federation of monarchies                              21  ...                      0.182\n",
              "in transition                                        223  ...                      0.229\n",
              "parliamentary constitutional monarchy                543  ...                      1.704\n",
              "parliamentary constitutional monarchy; a Common...    15  ...                      0.278\n",
              "parliamentary constitutional monarchy; part of ...     5  ...                      0.298\n",
              "parliamentary democracy                               13  ...                      0.082\n",
              "parliamentary democracy (Parliament) under a co...    56  ...                      0.028\n",
              "parliamentary democracy; note - constitutional ...   116  ...                      0.064\n",
              "parliamentary democracy under a constitutional ...     8  ...                      0.380\n",
              "parliamentary republic                              1921  ...                      2.418\n",
              "presidential Islamic republic                        154  ...                      0.025\n",
              "presidential limited democracy; a special admin...    76  ...                      0.287\n",
              "presidential republic                               4588  ...                      4.294\n",
              "presidential republic in name, although in fact...    81  ...                      0.142\n",
              "presidential republic; authoritarian                  87  ...                      0.028\n",
              "presidential republic; highly authoritarian           41  ...                      0.240\n",
              "presidential republic; highly authoritarian regime   149  ...                      0.141\n",
              "semi-presidential federation                          68  ...                      0.031\n",
              "semi-presidential republic                           944  ...                      0.817\n",
              "theocratic republic                                  117  ...                      0.125\n",
              "unitary parliamentary republic                         4  ...                      0.118\n",
              "\n",
              "[35 rows x 8 columns]"
            ]
          },
          "metadata": {
            "tags": []
          },
          "execution_count": 16
        }
      ]
    },
    {
      "cell_type": "markdown",
      "metadata": {
        "id": "Kd2F2wgDlzw-",
        "colab_type": "text"
      },
      "source": [
        "**Preprocessing of the new data frame :**"
      ]
    },
    {
      "cell_type": "code",
      "metadata": {
        "id": "6_ZCXrgZsB8O",
        "colab_type": "code",
        "colab": {}
      },
      "source": [
        "def preprocess(text):\n",
        "  head, sep, tail = text.partition(';')\n",
        "  return head"
      ],
      "execution_count": null,
      "outputs": []
    },
    {
      "cell_type": "code",
      "metadata": {
        "id": "mQL0jAHcsYUb",
        "colab_type": "code",
        "colab": {}
      },
      "source": [
        "data['Government_type']=data['Government_type'].apply(preprocess)"
      ],
      "execution_count": null,
      "outputs": []
    },
    {
      "cell_type": "code",
      "metadata": {
        "id": "DZnoUxD4sjZk",
        "colab_type": "code",
        "colab": {
          "base_uri": "https://localhost:8080/",
          "height": 391
        },
        "outputId": "1e6a3a8e-1534-480b-edfb-7447b41e0dd8"
      },
      "source": [
        "data['Government_type'].unique()"
      ],
      "execution_count": null,
      "outputs": [
        {
          "output_type": "execute_result",
          "data": {
            "text/plain": [
              "array(['parliamentary republic', 'parliamentary constitutional monarchy',\n",
              "       'unitary parliamentary republic',\n",
              "       'federal republic (formally a confederation)',\n",
              "       'parliamentary democracy\\xa0under a constitutional monarchy',\n",
              "       'federal parliamentary democracy (Parliament of Canada) under a constitutional monarchy',\n",
              "       'federal parliamentary republic',\n",
              "       'federal parliamentary democracy\\xa0under a constitutional monarchy',\n",
              "       'presidential republic', 'parliamentary democracy',\n",
              "       'constitutional monarchy',\n",
              "       'federal parliamentary democracy under a constitutional monarchy',\n",
              "       'constitutional federal republic', 'federation of monarchies',\n",
              "       'federal presidential republic', 'semi-presidential republic',\n",
              "       'absolute monarchy', 'Republic of Cyprus - presidential republic',\n",
              "       'constitutional monarchy (emirate)',\n",
              "       'parliamentary democracy (Parliament) under a constitutional monarchy',\n",
              "       'semi-presidential federation', 'in transition',\n",
              "       'presidential limited democracy',\n",
              "       'federal parliamentary constitutional monarchy',\n",
              "       'presidential republic in name, although in fact a dictatorship',\n",
              "       'communist party-led state', 'communist state',\n",
              "       'theocratic republic', 'presidential Islamic republic'],\n",
              "      dtype=object)"
            ]
          },
          "metadata": {
            "tags": []
          },
          "execution_count": 19
        }
      ]
    },
    {
      "cell_type": "code",
      "metadata": {
        "id": "J6lxjPLNsq2x",
        "colab_type": "code",
        "colab": {
          "base_uri": "https://localhost:8080/",
          "height": 571
        },
        "outputId": "308ceaa1-631d-4be2-ede9-5d15972501e6"
      },
      "source": [
        "plt.figure(figsize=(5,9))\n",
        "plt.xticks(rotation=90)\n",
        "sns.countplot(y='Government_type',data=data,order = data['Government_type'].value_counts().index)"
      ],
      "execution_count": null,
      "outputs": [
        {
          "output_type": "execute_result",
          "data": {
            "text/plain": [
              "<matplotlib.axes._subplots.AxesSubplot at 0x7f4a5b9ee470>"
            ]
          },
          "metadata": {
            "tags": []
          },
          "execution_count": 20
        },
        {
          "output_type": "display_data",
          "data": {
            "image/png": "[encoded data removed]",
            "text/plain": [
              "<Figure size 360x648 with 1 Axes>"
            ]
          },
          "metadata": {
            "tags": [],
            "needs_background": "light"
          }
        }
      ]
    },
    {
      "cell_type": "code",
      "metadata": {
        "id": "MGNmjbVKyyr_",
        "colab_type": "code",
        "colab": {
          "base_uri": "https://localhost:8080/",
          "height": 128
        },
        "outputId": "bb25e71c-32db-47df-befb-f9505b1949b7"
      },
      "source": [
        "transition=data[data['Government_type']=='in transition']\n",
        "transition.head()\n",
        "\n",
        "\n",
        "#transitional countries have negative correlation with contributing factors of happiness\n",
        "#there are only two countries in transitional state in this dataset"
      ],
      "execution_count": null,
      "outputs": [
        {
          "output_type": "execute_result",
          "data": {
            "text/html": [
              "<div>\n",
              "<style scoped>\n",
              "    .dataframe tbody tr th:only-of-type {\n",
              "        vertical-align: middle;\n",
              "    }\n",
              "\n",
              "    .dataframe tbody tr th {\n",
              "        vertical-align: top;\n",
              "    }\n",
              "\n",
              "    .dataframe thead th {\n",
              "        text-align: right;\n",
              "    }\n",
              "</style>\n",
              "<table border=\"1\" class=\"dataframe\">\n",
              "  <thead>\n",
              "    <tr style=\"text-align: right;\">\n",
              "      <th></th>\n",
              "      <th>rank</th>\n",
              "      <th>Country</th>\n",
              "      <th>Score</th>\n",
              "      <th>GDP per capita</th>\n",
              "      <th>Social support</th>\n",
              "      <th>Healthy life expectancy</th>\n",
              "      <th>Freedom to make life choices</th>\n",
              "      <th>Generosity</th>\n",
              "      <th>Perceptions of corruption</th>\n",
              "      <th>Government_type</th>\n",
              "    </tr>\n",
              "  </thead>\n",
              "  <tbody>\n",
              "    <tr>\n",
              "      <th>67</th>\n",
              "      <td>72</td>\n",
              "      <td>Libya</td>\n",
              "      <td>5.525</td>\n",
              "      <td>1.044</td>\n",
              "      <td>1.303</td>\n",
              "      <td>0.673</td>\n",
              "      <td>0.416</td>\n",
              "      <td>0.133</td>\n",
              "      <td>0.152</td>\n",
              "      <td>in transition</td>\n",
              "    </tr>\n",
              "    <tr>\n",
              "      <th>138</th>\n",
              "      <td>151</td>\n",
              "      <td>Yemen</td>\n",
              "      <td>3.380</td>\n",
              "      <td>0.287</td>\n",
              "      <td>1.163</td>\n",
              "      <td>0.463</td>\n",
              "      <td>0.143</td>\n",
              "      <td>0.108</td>\n",
              "      <td>0.077</td>\n",
              "      <td>in transition</td>\n",
              "    </tr>\n",
              "  </tbody>\n",
              "</table>\n",
              "</div>"
            ],
            "text/plain": [
              "     rank Country  Score  ...  Generosity  Perceptions of corruption  Government_type\n",
              "67     72   Libya  5.525  ...       0.133                      0.152    in transition\n",
              "138   151   Yemen  3.380  ...       0.108                      0.077    in transition\n",
              "\n",
              "[2 rows x 10 columns]"
            ]
          },
          "metadata": {
            "tags": []
          },
          "execution_count": 21
        }
      ]
    },
    {
      "cell_type": "code",
      "metadata": {
        "id": "mh9IRZPQYYE0",
        "colab_type": "code",
        "colab": {
          "base_uri": "https://localhost:8080/",
          "height": 422
        },
        "outputId": "e7f89f15-636b-424c-9083-844871070e6f"
      },
      "source": [
        "sns.heatmap(transition.corr())"
      ],
      "execution_count": null,
      "outputs": [
        {
          "output_type": "execute_result",
          "data": {
            "text/plain": [
              "<matplotlib.axes._subplots.AxesSubplot at 0x7f4a5ba54b70>"
            ]
          },
          "metadata": {
            "tags": []
          },
          "execution_count": 22
        },
        {
          "output_type": "display_data",
          "data": {
            "image/png": "[encoded data removed]",
            "text/plain": [
              "<Figure size 432x288 with 2 Axes>"
            ]
          },
          "metadata": {
            "tags": [],
            "needs_background": "light"
          }
        }
      ]
    },
    {
      "cell_type": "markdown",
      "metadata": {
        "id": "3ejixNOyl8Xu",
        "colab_type": "text"
      },
      "source": [
        "In transition the countries , as expected , due to the internal turmoil there isn't much relation with happiness scores and the feature. \n",
        "\n",
        "Now, let us explore the correlation among country's presidential republic."
      ]
    },
    {
      "cell_type": "code",
      "metadata": {
        "id": "MAigXUvgz1uP",
        "colab_type": "code",
        "colab": {
          "base_uri": "https://localhost:8080/",
          "height": 323
        },
        "outputId": "328781f8-12cf-4598-9944-c1444951e6e5"
      },
      "source": [
        "presidentialrep=data[data['Government_type']=='presidential republic']\n",
        "presidentialrep.head()\n"
      ],
      "execution_count": null,
      "outputs": [
        {
          "output_type": "execute_result",
          "data": {
            "text/html": [
              "<div>\n",
              "<style scoped>\n",
              "    .dataframe tbody tr th:only-of-type {\n",
              "        vertical-align: middle;\n",
              "    }\n",
              "\n",
              "    .dataframe tbody tr th {\n",
              "        vertical-align: top;\n",
              "    }\n",
              "\n",
              "    .dataframe thead th {\n",
              "        text-align: right;\n",
              "    }\n",
              "</style>\n",
              "<table border=\"1\" class=\"dataframe\">\n",
              "  <thead>\n",
              "    <tr style=\"text-align: right;\">\n",
              "      <th></th>\n",
              "      <th>rank</th>\n",
              "      <th>Country</th>\n",
              "      <th>Score</th>\n",
              "      <th>GDP per capita</th>\n",
              "      <th>Social support</th>\n",
              "      <th>Healthy life expectancy</th>\n",
              "      <th>Freedom to make life choices</th>\n",
              "      <th>Generosity</th>\n",
              "      <th>Perceptions of corruption</th>\n",
              "      <th>Government_type</th>\n",
              "    </tr>\n",
              "  </thead>\n",
              "  <tbody>\n",
              "    <tr>\n",
              "      <th>11</th>\n",
              "      <td>12</td>\n",
              "      <td>Costa Rica</td>\n",
              "      <td>7.167</td>\n",
              "      <td>1.034</td>\n",
              "      <td>1.441</td>\n",
              "      <td>0.963</td>\n",
              "      <td>0.558</td>\n",
              "      <td>0.144</td>\n",
              "      <td>0.093</td>\n",
              "      <td>presidential republic</td>\n",
              "    </tr>\n",
              "    <tr>\n",
              "      <th>24</th>\n",
              "      <td>26</td>\n",
              "      <td>Chile</td>\n",
              "      <td>6.444</td>\n",
              "      <td>1.159</td>\n",
              "      <td>1.369</td>\n",
              "      <td>0.920</td>\n",
              "      <td>0.357</td>\n",
              "      <td>0.187</td>\n",
              "      <td>0.056</td>\n",
              "      <td>presidential republic</td>\n",
              "    </tr>\n",
              "    <tr>\n",
              "      <th>25</th>\n",
              "      <td>27</td>\n",
              "      <td>Guatemala</td>\n",
              "      <td>6.436</td>\n",
              "      <td>0.800</td>\n",
              "      <td>1.269</td>\n",
              "      <td>0.746</td>\n",
              "      <td>0.535</td>\n",
              "      <td>0.175</td>\n",
              "      <td>0.078</td>\n",
              "      <td>presidential republic</td>\n",
              "    </tr>\n",
              "    <tr>\n",
              "      <th>29</th>\n",
              "      <td>31</td>\n",
              "      <td>Panama</td>\n",
              "      <td>6.321</td>\n",
              "      <td>1.149</td>\n",
              "      <td>1.442</td>\n",
              "      <td>0.910</td>\n",
              "      <td>0.516</td>\n",
              "      <td>0.109</td>\n",
              "      <td>0.054</td>\n",
              "      <td>presidential republic</td>\n",
              "    </tr>\n",
              "    <tr>\n",
              "      <th>31</th>\n",
              "      <td>33</td>\n",
              "      <td>Uruguay</td>\n",
              "      <td>6.293</td>\n",
              "      <td>1.124</td>\n",
              "      <td>1.465</td>\n",
              "      <td>0.891</td>\n",
              "      <td>0.523</td>\n",
              "      <td>0.127</td>\n",
              "      <td>0.150</td>\n",
              "      <td>presidential republic</td>\n",
              "    </tr>\n",
              "  </tbody>\n",
              "</table>\n",
              "</div>"
            ],
            "text/plain": [
              "    rank     Country  ...  Perceptions of corruption        Government_type\n",
              "11    12  Costa Rica  ...                      0.093  presidential republic\n",
              "24    26       Chile  ...                      0.056  presidential republic\n",
              "25    27   Guatemala  ...                      0.078  presidential republic\n",
              "29    31      Panama  ...                      0.054  presidential republic\n",
              "31    33     Uruguay  ...                      0.150  presidential republic\n",
              "\n",
              "[5 rows x 10 columns]"
            ]
          },
          "metadata": {
            "tags": []
          },
          "execution_count": 23
        }
      ]
    },
    {
      "cell_type": "markdown",
      "metadata": {
        "id": "QTuelmjlolGc",
        "colab_type": "text"
      },
      "source": [
        "The countries above mentioned are the top 5 in the presidential republic list and the below mentioned are the last 5 positions in the list."
      ]
    },
    {
      "cell_type": "code",
      "metadata": {
        "id": "LRwYqfy6oC38",
        "colab_type": "code",
        "colab": {
          "base_uri": "https://localhost:8080/",
          "height": 340
        },
        "outputId": "fff79d2e-953f-462b-820c-002c5fbb4a1d"
      },
      "source": [
        "presidentialrep.tail()\n",
        "\n"
      ],
      "execution_count": null,
      "outputs": [
        {
          "output_type": "execute_result",
          "data": {
            "text/html": [
              "<div>\n",
              "<style scoped>\n",
              "    .dataframe tbody tr th:only-of-type {\n",
              "        vertical-align: middle;\n",
              "    }\n",
              "\n",
              "    .dataframe tbody tr th {\n",
              "        vertical-align: top;\n",
              "    }\n",
              "\n",
              "    .dataframe thead th {\n",
              "        text-align: right;\n",
              "    }\n",
              "</style>\n",
              "<table border=\"1\" class=\"dataframe\">\n",
              "  <thead>\n",
              "    <tr style=\"text-align: right;\">\n",
              "      <th></th>\n",
              "      <th>rank</th>\n",
              "      <th>Country</th>\n",
              "      <th>Score</th>\n",
              "      <th>GDP per capita</th>\n",
              "      <th>Social support</th>\n",
              "      <th>Healthy life expectancy</th>\n",
              "      <th>Freedom to make life choices</th>\n",
              "      <th>Generosity</th>\n",
              "      <th>Perceptions of corruption</th>\n",
              "      <th>Government_type</th>\n",
              "    </tr>\n",
              "  </thead>\n",
              "  <tbody>\n",
              "    <tr>\n",
              "      <th>137</th>\n",
              "      <td>150</td>\n",
              "      <td>Malawi</td>\n",
              "      <td>3.410</td>\n",
              "      <td>0.191</td>\n",
              "      <td>0.560</td>\n",
              "      <td>0.495</td>\n",
              "      <td>0.443</td>\n",
              "      <td>0.218</td>\n",
              "      <td>0.089</td>\n",
              "      <td>presidential republic</td>\n",
              "    </tr>\n",
              "    <tr>\n",
              "      <th>139</th>\n",
              "      <td>152</td>\n",
              "      <td>Rwanda</td>\n",
              "      <td>3.334</td>\n",
              "      <td>0.359</td>\n",
              "      <td>0.711</td>\n",
              "      <td>0.614</td>\n",
              "      <td>0.555</td>\n",
              "      <td>0.217</td>\n",
              "      <td>0.411</td>\n",
              "      <td>presidential republic</td>\n",
              "    </tr>\n",
              "    <tr>\n",
              "      <th>140</th>\n",
              "      <td>153</td>\n",
              "      <td>Tanzania</td>\n",
              "      <td>3.231</td>\n",
              "      <td>0.476</td>\n",
              "      <td>0.885</td>\n",
              "      <td>0.499</td>\n",
              "      <td>0.417</td>\n",
              "      <td>0.276</td>\n",
              "      <td>0.147</td>\n",
              "      <td>presidential republic</td>\n",
              "    </tr>\n",
              "    <tr>\n",
              "      <th>142</th>\n",
              "      <td>155</td>\n",
              "      <td>Central African Republic</td>\n",
              "      <td>3.083</td>\n",
              "      <td>0.026</td>\n",
              "      <td>0.000</td>\n",
              "      <td>0.105</td>\n",
              "      <td>0.225</td>\n",
              "      <td>0.235</td>\n",
              "      <td>0.035</td>\n",
              "      <td>presidential republic</td>\n",
              "    </tr>\n",
              "    <tr>\n",
              "      <th>143</th>\n",
              "      <td>156</td>\n",
              "      <td>South Sudan</td>\n",
              "      <td>2.853</td>\n",
              "      <td>0.306</td>\n",
              "      <td>0.575</td>\n",
              "      <td>0.295</td>\n",
              "      <td>0.010</td>\n",
              "      <td>0.202</td>\n",
              "      <td>0.091</td>\n",
              "      <td>presidential republic</td>\n",
              "    </tr>\n",
              "  </tbody>\n",
              "</table>\n",
              "</div>"
            ],
            "text/plain": [
              "     rank  ...        Government_type\n",
              "137   150  ...  presidential republic\n",
              "139   152  ...  presidential republic\n",
              "140   153  ...  presidential republic\n",
              "142   155  ...  presidential republic\n",
              "143   156  ...  presidential republic\n",
              "\n",
              "[5 rows x 10 columns]"
            ]
          },
          "metadata": {
            "tags": []
          },
          "execution_count": 30
        }
      ]
    },
    {
      "cell_type": "code",
      "metadata": {
        "id": "k_ur7CBlYgK4",
        "colab_type": "code",
        "colab": {
          "base_uri": "https://localhost:8080/",
          "height": 422
        },
        "outputId": "0ba47c1e-053d-4b33-da91-0621d27768da"
      },
      "source": [
        "sns.heatmap(presidentialrep.corr(),annot=True)\n",
        "\n",
        "\n",
        "#presidentital republic also have a higher ranks"
      ],
      "execution_count": null,
      "outputs": [
        {
          "output_type": "execute_result",
          "data": {
            "text/plain": [
              "<matplotlib.axes._subplots.AxesSubplot at 0x7f4a565f7c50>"
            ]
          },
          "metadata": {
            "tags": []
          },
          "execution_count": 24
        },
        {
          "output_type": "display_data",
          "data": {
            "image/png": "[encoded data removed]",
            "text/plain": [
              "<Figure size 432x288 with 2 Axes>"
            ]
          },
          "metadata": {
            "tags": [],
            "needs_background": "light"
          }
        }
      ]
    },
    {
      "cell_type": "markdown",
      "metadata": {
        "id": "y16cHz1omuJ6",
        "colab_type": "text"
      },
      "source": [
        "We can see that the countries under presidential republic also have varied correlation. There is positive corelation among GDP , Social Support , Life expectancy , freedom of choices to the happiness score. There is negative correlation with Generosity and Perception of Corruption\n",
        "\n",
        "If we check the countries with higher ranks under presidential republic form of government , we can see that countries with higher ranks have the following features\n",
        "* The constitution provides for free and compulsory  education. The central government oversees school attendance, curriculum , and other educational matters.\n",
        "* Costa Rica provides universal health care to its citizens and permanent residents. Costa Rica offers some of the best health care in Latin America\n",
        "* Healthcare in Panama is provided through a system through the government and a private sector. The public sector is funded through the Ministerio de Salud, (MINSA) and the Social Security Fund (Caja de Seguro Social), which operate separate facilities. However it is not universally accesible especially in the country side.\n",
        "* Uruguay apart from private treatment also provides free treatment to lower income people.\n",
        "\n",
        "Let's take a look at the countries that have lower ranks under presidentital republic\n",
        "\n",
        "* South Sudan suffers from internal political and ethinical conflicts\n",
        "* South Sudan has been ranked the most corrupt country in East Africa followed by Burundi. Kenya and Uganda tie in third position, according to latest Corruption Perception Index 2019 report published by Transparency International.\n",
        "\n",
        "* According to the paper Effect of corruption on perceived difficulties in healthcare access in sub-Saharan Africa\n",
        "it is concluded that bribery is a potential barrier in these regions. \n",
        "\n",
        "\n",
        "\n",
        "\n",
        "link: http://info8.juridicas.unam.mx/cont/mlawr/8/arc/arc3.htm\n",
        "\n",
        "https://journals.plos.org/plosone/article?id=10.1371/journal.pone.0220583\n",
        "https://www.britannica.com/place/Costa-Rica/Health-and-welfare"
      ]
    },
    {
      "cell_type": "code",
      "metadata": {
        "id": "HZ9QjxIz8Eki",
        "colab_type": "code",
        "colab": {
          "base_uri": "https://localhost:8080/",
          "height": 408
        },
        "outputId": "90fac284-8b26-4c2d-ef0e-2351d4a03088"
      },
      "source": [
        "pcm=data[data['Government_type']=='parliamentary constitutional monarchy']\n",
        "pcm.head()"
      ],
      "execution_count": null,
      "outputs": [
        {
          "output_type": "execute_result",
          "data": {
            "text/html": [
              "<div>\n",
              "<style scoped>\n",
              "    .dataframe tbody tr th:only-of-type {\n",
              "        vertical-align: middle;\n",
              "    }\n",
              "\n",
              "    .dataframe tbody tr th {\n",
              "        vertical-align: top;\n",
              "    }\n",
              "\n",
              "    .dataframe thead th {\n",
              "        text-align: right;\n",
              "    }\n",
              "</style>\n",
              "<table border=\"1\" class=\"dataframe\">\n",
              "  <thead>\n",
              "    <tr style=\"text-align: right;\">\n",
              "      <th></th>\n",
              "      <th>rank</th>\n",
              "      <th>Country</th>\n",
              "      <th>Score</th>\n",
              "      <th>GDP per capita</th>\n",
              "      <th>Social support</th>\n",
              "      <th>Healthy life expectancy</th>\n",
              "      <th>Freedom to make life choices</th>\n",
              "      <th>Generosity</th>\n",
              "      <th>Perceptions of corruption</th>\n",
              "      <th>Government_type</th>\n",
              "    </tr>\n",
              "  </thead>\n",
              "  <tbody>\n",
              "    <tr>\n",
              "      <th>1</th>\n",
              "      <td>2</td>\n",
              "      <td>Denmark</td>\n",
              "      <td>7.600</td>\n",
              "      <td>1.383</td>\n",
              "      <td>1.573</td>\n",
              "      <td>0.996</td>\n",
              "      <td>0.592</td>\n",
              "      <td>0.252</td>\n",
              "      <td>0.410</td>\n",
              "      <td>parliamentary constitutional monarchy</td>\n",
              "    </tr>\n",
              "    <tr>\n",
              "      <th>2</th>\n",
              "      <td>3</td>\n",
              "      <td>Norway</td>\n",
              "      <td>7.554</td>\n",
              "      <td>1.488</td>\n",
              "      <td>1.582</td>\n",
              "      <td>1.028</td>\n",
              "      <td>0.603</td>\n",
              "      <td>0.271</td>\n",
              "      <td>0.341</td>\n",
              "      <td>parliamentary constitutional monarchy</td>\n",
              "    </tr>\n",
              "    <tr>\n",
              "      <th>4</th>\n",
              "      <td>5</td>\n",
              "      <td>Netherlands</td>\n",
              "      <td>7.488</td>\n",
              "      <td>1.396</td>\n",
              "      <td>1.522</td>\n",
              "      <td>0.999</td>\n",
              "      <td>0.557</td>\n",
              "      <td>0.322</td>\n",
              "      <td>0.298</td>\n",
              "      <td>parliamentary constitutional monarchy</td>\n",
              "    </tr>\n",
              "    <tr>\n",
              "      <th>6</th>\n",
              "      <td>7</td>\n",
              "      <td>Sweden</td>\n",
              "      <td>7.343</td>\n",
              "      <td>1.387</td>\n",
              "      <td>1.487</td>\n",
              "      <td>1.009</td>\n",
              "      <td>0.574</td>\n",
              "      <td>0.267</td>\n",
              "      <td>0.373</td>\n",
              "      <td>parliamentary constitutional monarchy</td>\n",
              "    </tr>\n",
              "    <tr>\n",
              "      <th>14</th>\n",
              "      <td>15</td>\n",
              "      <td>United Kingdom</td>\n",
              "      <td>7.054</td>\n",
              "      <td>1.333</td>\n",
              "      <td>1.538</td>\n",
              "      <td>0.996</td>\n",
              "      <td>0.450</td>\n",
              "      <td>0.348</td>\n",
              "      <td>0.278</td>\n",
              "      <td>parliamentary constitutional monarchy</td>\n",
              "    </tr>\n",
              "  </tbody>\n",
              "</table>\n",
              "</div>"
            ],
            "text/plain": [
              "    rank  ...                        Government_type\n",
              "1      2  ...  parliamentary constitutional monarchy\n",
              "2      3  ...  parliamentary constitutional monarchy\n",
              "4      5  ...  parliamentary constitutional monarchy\n",
              "6      7  ...  parliamentary constitutional monarchy\n",
              "14    15  ...  parliamentary constitutional monarchy\n",
              "\n",
              "[5 rows x 10 columns]"
            ]
          },
          "metadata": {
            "tags": []
          },
          "execution_count": 25
        }
      ]
    },
    {
      "cell_type": "markdown",
      "metadata": {
        "id": "ZYbwjgMno097",
        "colab_type": "text"
      },
      "source": [
        "\n",
        "The countries mentioned above and below are the top and bottom five countries under parliamentry monarchy\n"
      ]
    },
    {
      "cell_type": "code",
      "metadata": {
        "id": "qljFA7H-pJXE",
        "colab_type": "code",
        "colab": {
          "base_uri": "https://localhost:8080/",
          "height": 408
        },
        "outputId": "d932a978-bf80-4804-cd81-696c2f8fe3a1"
      },
      "source": [
        "pcm.tail()"
      ],
      "execution_count": null,
      "outputs": [
        {
          "output_type": "execute_result",
          "data": {
            "text/html": [
              "<div>\n",
              "<style scoped>\n",
              "    .dataframe tbody tr th:only-of-type {\n",
              "        vertical-align: middle;\n",
              "    }\n",
              "\n",
              "    .dataframe tbody tr th {\n",
              "        vertical-align: top;\n",
              "    }\n",
              "\n",
              "    .dataframe thead th {\n",
              "        text-align: right;\n",
              "    }\n",
              "</style>\n",
              "<table border=\"1\" class=\"dataframe\">\n",
              "  <thead>\n",
              "    <tr style=\"text-align: right;\">\n",
              "      <th></th>\n",
              "      <th>rank</th>\n",
              "      <th>Country</th>\n",
              "      <th>Score</th>\n",
              "      <th>GDP per capita</th>\n",
              "      <th>Social support</th>\n",
              "      <th>Healthy life expectancy</th>\n",
              "      <th>Freedom to make life choices</th>\n",
              "      <th>Generosity</th>\n",
              "      <th>Perceptions of corruption</th>\n",
              "      <th>Government_type</th>\n",
              "    </tr>\n",
              "  </thead>\n",
              "  <tbody>\n",
              "    <tr>\n",
              "      <th>54</th>\n",
              "      <td>58</td>\n",
              "      <td>Japan</td>\n",
              "      <td>5.886</td>\n",
              "      <td>1.327</td>\n",
              "      <td>1.419</td>\n",
              "      <td>1.088</td>\n",
              "      <td>0.445</td>\n",
              "      <td>0.069</td>\n",
              "      <td>0.140</td>\n",
              "      <td>parliamentary constitutional monarchy</td>\n",
              "    </tr>\n",
              "    <tr>\n",
              "      <th>84</th>\n",
              "      <td>89</td>\n",
              "      <td>Morocco</td>\n",
              "      <td>5.208</td>\n",
              "      <td>0.801</td>\n",
              "      <td>0.782</td>\n",
              "      <td>0.782</td>\n",
              "      <td>0.418</td>\n",
              "      <td>0.036</td>\n",
              "      <td>0.076</td>\n",
              "      <td>parliamentary constitutional monarchy</td>\n",
              "    </tr>\n",
              "    <tr>\n",
              "      <th>95</th>\n",
              "      <td>101</td>\n",
              "      <td>Jordan</td>\n",
              "      <td>4.906</td>\n",
              "      <td>0.837</td>\n",
              "      <td>1.225</td>\n",
              "      <td>0.815</td>\n",
              "      <td>0.383</td>\n",
              "      <td>0.110</td>\n",
              "      <td>0.130</td>\n",
              "      <td>parliamentary constitutional monarchy</td>\n",
              "    </tr>\n",
              "    <tr>\n",
              "      <th>102</th>\n",
              "      <td>109</td>\n",
              "      <td>Cambodia</td>\n",
              "      <td>4.700</td>\n",
              "      <td>0.574</td>\n",
              "      <td>1.122</td>\n",
              "      <td>0.637</td>\n",
              "      <td>0.609</td>\n",
              "      <td>0.232</td>\n",
              "      <td>0.062</td>\n",
              "      <td>parliamentary constitutional monarchy</td>\n",
              "    </tr>\n",
              "    <tr>\n",
              "      <th>131</th>\n",
              "      <td>144</td>\n",
              "      <td>Lesotho</td>\n",
              "      <td>3.802</td>\n",
              "      <td>0.489</td>\n",
              "      <td>1.169</td>\n",
              "      <td>0.168</td>\n",
              "      <td>0.359</td>\n",
              "      <td>0.107</td>\n",
              "      <td>0.093</td>\n",
              "      <td>parliamentary constitutional monarchy</td>\n",
              "    </tr>\n",
              "  </tbody>\n",
              "</table>\n",
              "</div>"
            ],
            "text/plain": [
              "     rank  ...                        Government_type\n",
              "54     58  ...  parliamentary constitutional monarchy\n",
              "84     89  ...  parliamentary constitutional monarchy\n",
              "95    101  ...  parliamentary constitutional monarchy\n",
              "102   109  ...  parliamentary constitutional monarchy\n",
              "131   144  ...  parliamentary constitutional monarchy\n",
              "\n",
              "[5 rows x 10 columns]"
            ]
          },
          "metadata": {
            "tags": []
          },
          "execution_count": 31
        }
      ]
    },
    {
      "cell_type": "code",
      "metadata": {
        "id": "kb6in46zZLKf",
        "colab_type": "code",
        "colab": {
          "base_uri": "https://localhost:8080/",
          "height": 422
        },
        "outputId": "ac9f053a-c41a-42ec-9c9d-44796ab600c9"
      },
      "source": [
        "sns.heatmap(pcm.corr(),annot=True)\n",
        "\n",
        "#not only constitutional monarchy have higher ranks"
      ],
      "execution_count": null,
      "outputs": [
        {
          "output_type": "execute_result",
          "data": {
            "text/plain": [
              "<matplotlib.axes._subplots.AxesSubplot at 0x7f4a564afe48>"
            ]
          },
          "metadata": {
            "tags": []
          },
          "execution_count": 26
        },
        {
          "output_type": "display_data",
          "data": {
            "image/png": "[encoded data removed]",
            "text/plain": [
              "<Figure size 432x288 with 2 Axes>"
            ]
          },
          "metadata": {
            "tags": [],
            "needs_background": "light"
          }
        }
      ]
    },
    {
      "cell_type": "markdown",
      "metadata": {
        "id": "8iV8UDjJnbaT",
        "colab_type": "text"
      },
      "source": [
        "For countries under constitutional monarchy features have positive correlation with the happiness score. These countries have performed better than the countries with other government forms.\n",
        "\n",
        "This can be attributed to the fact that :\n",
        "\n",
        "* they have protected human rights policy\n",
        "* the health care is universally accessible and is often supported by the government for its citizens\n",
        "* They have better social welfare system where they have free education. These nations also spend most of their GDP in social welfare.\n",
        "\n",
        "As for the countries that have lower ranks , in comparatively , under parliamentary constitutional monarchy \n",
        "\n",
        "* Japan has world class innovation and social welfare system \n",
        "* The other countries in the bottom half are Morocco, Jordan ,Cambodia, Lesotho \n",
        "\n",
        "Let us explore the corruption , universal access to health care and education in the above mentioned countries \n",
        "\n",
        "* Total healthcare expenditures account for approximately 6% of Cambodia’s GDP and is increasing in the country’s high-growth economy\n",
        "* Though Education was better in late 1950's but was wiped clean by khmer rouge and forced to rebuild.\n",
        "* In Morocco the education is free until 16 years of age however is not accessible in the rural areas especially for girls\n",
        "* Most of the country's voluntary social welfare societies are subsidized by the government and coordinated by the central and regional offices of the National Mutual Aid Society\n",
        "* The occurrence of petty and grand corruption in public and private sectors in Morocco are one of the socio-political challenges the country is facing\n",
        "* Corruption is also identified by businesses as a large obstacle for investment in Morocco. Public procurement is an area with a high level of corruption, and government contracts are often awarded to well-connected companies.  "
      ]
    },
    {
      "cell_type": "code",
      "metadata": {
        "id": "2UTDJIcZaJyu",
        "colab_type": "code",
        "colab": {
          "base_uri": "https://localhost:8080/",
          "height": 162
        },
        "outputId": "171177a4-b027-4759-eb99-514e2be4c2f6"
      },
      "source": [
        "absmonch=data[data['Government_type']=='absolute monarchy']\n",
        "absmonch.head()\n",
        "#there are only two countries in this dataset that fall under absolute monarchy"
      ],
      "execution_count": null,
      "outputs": [
        {
          "output_type": "execute_result",
          "data": {
            "text/html": [
              "<div>\n",
              "<style scoped>\n",
              "    .dataframe tbody tr th:only-of-type {\n",
              "        vertical-align: middle;\n",
              "    }\n",
              "\n",
              "    .dataframe tbody tr th {\n",
              "        vertical-align: top;\n",
              "    }\n",
              "\n",
              "    .dataframe thead th {\n",
              "        text-align: right;\n",
              "    }\n",
              "</style>\n",
              "<table border=\"1\" class=\"dataframe\">\n",
              "  <thead>\n",
              "    <tr style=\"text-align: right;\">\n",
              "      <th></th>\n",
              "      <th>rank</th>\n",
              "      <th>Country</th>\n",
              "      <th>Score</th>\n",
              "      <th>GDP per capita</th>\n",
              "      <th>Social support</th>\n",
              "      <th>Healthy life expectancy</th>\n",
              "      <th>Freedom to make life choices</th>\n",
              "      <th>Generosity</th>\n",
              "      <th>Perceptions of corruption</th>\n",
              "      <th>Government_type</th>\n",
              "    </tr>\n",
              "  </thead>\n",
              "  <tbody>\n",
              "    <tr>\n",
              "      <th>26</th>\n",
              "      <td>28</td>\n",
              "      <td>Saudi Arabia</td>\n",
              "      <td>6.375</td>\n",
              "      <td>1.403</td>\n",
              "      <td>1.357</td>\n",
              "      <td>0.795</td>\n",
              "      <td>0.439</td>\n",
              "      <td>0.08</td>\n",
              "      <td>0.132</td>\n",
              "      <td>absolute monarchy</td>\n",
              "    </tr>\n",
              "    <tr>\n",
              "      <th>27</th>\n",
              "      <td>29</td>\n",
              "      <td>Qatar</td>\n",
              "      <td>6.374</td>\n",
              "      <td>1.684</td>\n",
              "      <td>1.313</td>\n",
              "      <td>0.871</td>\n",
              "      <td>0.555</td>\n",
              "      <td>0.22</td>\n",
              "      <td>0.167</td>\n",
              "      <td>absolute monarchy</td>\n",
              "    </tr>\n",
              "  </tbody>\n",
              "</table>\n",
              "</div>"
            ],
            "text/plain": [
              "    rank       Country  ...  Perceptions of corruption    Government_type\n",
              "26    28  Saudi Arabia  ...                      0.132  absolute monarchy\n",
              "27    29         Qatar  ...                      0.167  absolute monarchy\n",
              "\n",
              "[2 rows x 10 columns]"
            ]
          },
          "metadata": {
            "tags": []
          },
          "execution_count": 27
        }
      ]
    },
    {
      "cell_type": "code",
      "metadata": {
        "id": "AswTgA6_ag5X",
        "colab_type": "code",
        "colab": {
          "base_uri": "https://localhost:8080/",
          "height": 422
        },
        "outputId": "e4c7636c-bf1d-4590-e43c-16358a165c36"
      },
      "source": [
        "sns.heatmap(absmonch.corr(),annot=True)\n",
        "\n",
        "#there's positive and negative correlation with the features to the score in the case of absolute monarchy"
      ],
      "execution_count": null,
      "outputs": [
        {
          "output_type": "execute_result",
          "data": {
            "text/plain": [
              "<matplotlib.axes._subplots.AxesSubplot at 0x7f4a5bbbf828>"
            ]
          },
          "metadata": {
            "tags": []
          },
          "execution_count": 28
        },
        {
          "output_type": "display_data",
          "data": {
            "image/png": "[encoded data removed]",
            "text/plain": [
              "<Figure size 432x288 with 2 Axes>"
            ]
          },
          "metadata": {
            "tags": [],
            "needs_background": "light"
          }
        }
      ]
    },
    {
      "cell_type": "markdown",
      "metadata": {
        "id": "DrBNmKi5outq",
        "colab_type": "text"
      },
      "source": [
        "Countries under absolute monarchy , though have ranks in 20's , is strongly attributed to the Social support offered by the government to the people. We can also see that countries under absolute monarchy also includes Qatar and Saudi Arabia. \n",
        "\n",
        "The better social support can be attributed to the fact that :\n",
        "\n",
        "* The Saudi health care network provides free care to the general public and some of the most sophisticated specialized care available anywhere in the world.\n",
        "* The government also sponsors a wide range of social services programs aimed at ensuring that every citizen has a decent standard of living.\n",
        "* Today, Saudis have access to a national network of thousands of hospitals and clinics, and can obtain virtually any specialized medical treatment they might need in the Kingdom.\n",
        "* Sophisticated surgical procedures such as open heart surgery and organ transplants are routinely performed in Saudi hospitals by medical professionals that meet the highest international standards. One area of particular note is the success in separating conjoined twins by medical teams at a number of National Guard hospitals.\n",
        "* In addition, Saudis medications are readily available to patients at a low cost thanks to subsidies from the government. Saudi companies are also encouraged to manufacture pharmaceuticals.\n",
        "\n",
        "\n",
        "However if we consider the nations like Brunei out of this dataset,  the country restricted travel movements among induviduals and repressive in nature. The people are under poverty. Let us also consider Eshwati formerly known as Swaziland\n",
        "\n",
        "* There are four government-run hospitals in Brunei, one for every district. There are also 16 health centres and 10 health clinics.\n",
        "* There are are many reports fraud and corruption in both brunei and Eshwati\n",
        "\n",
        "\n",
        "\n",
        "Read more :https://www.saudiembassy.net/health-social-services\n",
        "\n",
        "https://www.psa.gov.qa/en/knowledge/Doc/Studies/Promoting_QNV2030_Vision_of_a_Good_Society_Towards_a_Social_Policy_for_Qatar_2009_EN.pdf"
      ]
    },
    {
      "cell_type": "markdown",
      "metadata": {
        "id": "R-Ah7AYF3jF2",
        "colab_type": "text"
      },
      "source": [
        "We can see that the policy held implemented by the government and presence of resources also contributes to the happiness score. So in the next analysis , we shall look at mean ranking of each form of governement. "
      ]
    }
  ]
}